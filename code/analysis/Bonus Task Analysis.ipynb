{
 "cells": [
  {
   "cell_type": "code",
   "execution_count": null,
   "metadata": {},
   "outputs": [],
   "source": [
    "import pandas as pd\n",
    "import numpy as np\n",
    "from statsmodels.tsa.stattools import adfuller\n",
    "from statsmodels.graphics.tsaplots import plot_pacf, plot_acf\n",
    "import matplotlib.pyplot as plt"
   ]
  },
  {
   "cell_type": "markdown",
   "metadata": {},
   "source": [
    "Section 1: Data Preprocessing"
   ]
  },
  {
   "cell_type": "code",
   "execution_count": null,
   "metadata": {},
   "outputs": [],
   "source": [
    "# Read the dataset\n",
    "df = pd.read_excel(\"../../data/market_data.xlsx\") "
   ]
  },
  {
   "cell_type": "code",
   "execution_count": null,
   "metadata": {},
   "outputs": [],
   "source": [
    "# Remove variables that are not in the range of study\n",
    "vic = df.filter(items=['Time (UTC+10)', 'Regions VIC Trading Price ($/MWh)',\n",
    "                       'Regions VIC Operational Demand (MW)',\n",
    "                       'Regions VIC Trading Total Intermittent Generation (MW)'])\n",
    "\n",
    "vic = vic.rename(columns={'Time (UTC+10)': 'Time', 'Regions VIC Trading Price ($/MWh)': 'Spot Price',\n",
    "                          'Regions VIC Operational Demand (MW)': 'Demand',\n",
    "                          'Regions VIC Trading Total Intermittent Generation (MW)': 'Supply'})"
   ]
  },
  {
   "cell_type": "markdown",
   "metadata": {},
   "source": [
    "Section 2: Non-transformed (Original) Time Series"
   ]
  },
  {
   "cell_type": "code",
   "execution_count": null,
   "metadata": {},
   "outputs": [],
   "source": [
    "# attribute to Jason,B (2020), How to Check if Time Series Data is Stationary with Python, Machine Learning Mastery,\n",
    "# https://machinelearningmastery.com/time-series-data-stationary-python/\n",
    "\n",
    "def stationarity(data):\n",
    "    '''Compute the mean and variance of two time series subsamples.'''\n",
    "    \n",
    "    split = len(data) / 2\n",
    "    X1, X2 = data.loc[0:split, 'Spot Price'], data.loc[split:, 'Spot Price']\n",
    "    \n",
    "    mean1, mean2 = X1.mean(), X2.mean()\n",
    "    var1, var2 = X1.var(), X2.var()\n",
    "\n",
    "    print('mean_1=%f, mean_2=%f' % (mean1, mean2))\n",
    "    print('variance_1=%f, variance_2=%f' % (var1, var2))\n",
    "    \n",
    "    return"
   ]
  },
  {
   "cell_type": "code",
   "execution_count": null,
   "metadata": {},
   "outputs": [],
   "source": [
    "# attribute to Vijay,K (2021), Statistical tests to check stationarity in Time Series – Part 1, Analytics Vidhya,\n",
    "# https://www.analyticsvidhya.com/blog/2021/06/statistical-tests-to-check-stationarity-in-time-series-part-1/\n",
    "\n",
    "def adf_test(timeseries):\n",
    "    '''Perform time series stationarity test.'''\n",
    "    \n",
    "    print ('Results of Dickey-Fuller Test:')\n",
    "    \n",
    "    dftest = adfuller(timeseries, autolag='AIC')\n",
    "    dfoutput = pd.Series(dftest[0:4], index=['Test Statistic', 'p-value', '#Lags Used', 'Number of Observations Used'])\n",
    "    \n",
    "    for key,value in dftest[4].items():\n",
    "        dfoutput['Critical Value (%s)'%key] = value\n",
    "        \n",
    "    print (dfoutput)\n",
    "    \n",
    "    return"
   ]
  },
  {
   "cell_type": "code",
   "execution_count": null,
   "metadata": {},
   "outputs": [],
   "source": [
    "# Check stationarity in mean and variance of spot price time series\n",
    "stationarity(vic)"
   ]
  },
  {
   "cell_type": "code",
   "execution_count": null,
   "metadata": {},
   "outputs": [],
   "source": [
    "# Check stationarity in mean of spot price time series using a formal test\n",
    "adf_test(vic['Spot Price'])"
   ]
  },
  {
   "cell_type": "markdown",
   "metadata": {},
   "source": [
    "Section 3: Log-transformed Time Series"
   ]
  },
  {
   "cell_type": "code",
   "execution_count": null,
   "metadata": {},
   "outputs": [],
   "source": [
    "vic_tf = vic.copy()"
   ]
  },
  {
   "cell_type": "code",
   "execution_count": null,
   "metadata": {},
   "outputs": [],
   "source": [
    "# Perform log transformation on the attributes of interest\n",
    "min_price = min(vic_tf['Spot Price'])\n",
    "log_const = 1 - min_price\n",
    "\n",
    "vic_tf['Spot Price'] = np.log(log_const + vic_tf['Spot Price'])\n",
    "vic_tf['Demand'] = np.log(log_const + vic_tf['Demand'])\n",
    "vic_tf['Supply'] = np.log(log_const + vic_tf['Supply'])"
   ]
  },
  {
   "cell_type": "code",
   "execution_count": null,
   "metadata": {},
   "outputs": [],
   "source": [
    "# Check stationarity in mean and variance of spot price time series after log transformation\n",
    "stationarity(vic_tf)"
   ]
  },
  {
   "cell_type": "code",
   "execution_count": null,
   "metadata": {},
   "outputs": [],
   "source": [
    "# Check stationarity in mean of spot price time series after log transformation using a formal test\n",
    "adf_test(vic_tf['Spot Price'])"
   ]
  },
  {
   "cell_type": "code",
   "execution_count": null,
   "metadata": {},
   "outputs": [],
   "source": [
    "# Generate the partial autocorrelation plot\n",
    "plot_pacf(vic_tf['Spot Price'], lags=10)\n",
    "plt.show()"
   ]
  },
  {
   "cell_type": "code",
   "execution_count": null,
   "metadata": {},
   "outputs": [],
   "source": [
    "# Generate the autocorrelation plot\n",
    "plot_acf(vic_tf['Spot Price'])\n",
    "plt.show()"
   ]
  }
 ],
 "metadata": {
  "kernelspec": {
   "display_name": "Python 3 (ipykernel)",
   "language": "python",
   "name": "python3"
  },
  "language_info": {
   "codemirror_mode": {
    "name": "ipython",
    "version": 3
   },
   "file_extension": ".py",
   "mimetype": "text/x-python",
   "name": "python",
   "nbconvert_exporter": "python",
   "pygments_lexer": "ipython3",
   "version": "3.9.5"
  }
 },
 "nbformat": 4,
 "nbformat_minor": 4
}
