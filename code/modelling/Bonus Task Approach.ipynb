{
 "cells": [
  {
   "cell_type": "code",
   "execution_count": null,
   "id": "84768508",
   "metadata": {},
   "outputs": [],
   "source": [
    "import pandas as pd\n",
    "import datetime\n",
    "from datetime import date, time, datetime\n",
    "import itertools\n",
    "import numpy as np\n",
    "import math\n",
    "from sklearn.model_selection import TimeSeriesSplit\n",
    "from sklearn.metrics import mean_squared_error\n",
    "import statsmodels.api as sm\n",
    "from statsmodels.tsa.api import VAR\n",
    "\n",
    "import warnings\n",
    "warnings.filterwarnings(\"ignore\")"
   ]
  },
  {
   "cell_type": "markdown",
   "id": "126f1aa9",
   "metadata": {},
   "source": [
    "Section 1: Data Preprocessing"
   ]
  },
  {
   "cell_type": "code",
   "execution_count": null,
   "id": "7a42537c",
   "metadata": {},
   "outputs": [],
   "source": [
    "# Read the dataset\n",
    "df = pd.read_excel(\"../../data/market_data.xlsx\") "
   ]
  },
  {
   "cell_type": "code",
   "execution_count": null,
   "id": "50052143",
   "metadata": {},
   "outputs": [],
   "source": [
    "# Remove variables that are not in the range of study\n",
    "vic = df.filter(items=['Time (UTC+10)', 'Regions VIC Trading Price ($/MWh)',\n",
    "                       'Regions VIC Operational Demand (MW)',\n",
    "                       'Regions VIC Trading Total Intermittent Generation (MW)'])\n",
    "\n",
    "vic = vic.rename(columns={'Time (UTC+10)': 'Time', 'Regions VIC Trading Price ($/MWh)': 'Spot Price',\n",
    "                          'Regions VIC Operational Demand (MW)': 'Demand',\n",
    "                          'Regions VIC Trading Total Intermittent Generation (MW)': 'Supply'})"
   ]
  },
  {
   "cell_type": "code",
   "execution_count": null,
   "id": "ba78e02c",
   "metadata": {},
   "outputs": [],
   "source": [
    "# Recast data type of datetime column to datetime type\n",
    "vic['Time'] = pd.to_datetime(vic['Time'])"
   ]
  },
  {
   "cell_type": "code",
   "execution_count": null,
   "id": "16510179",
   "metadata": {},
   "outputs": [],
   "source": [
    "vic_tf = vic.copy()"
   ]
  },
  {
   "cell_type": "code",
   "execution_count": null,
   "id": "90411046",
   "metadata": {},
   "outputs": [],
   "source": [
    "# Perform log transformation on the attributes of interest\n",
    "min_price = min(vic_tf['Spot Price'])\n",
    "log_const = 1 - min_price\n",
    "\n",
    "vic_tf['Spot Price'] = np.log(log_const + vic_tf['Spot Price'])\n",
    "vic_tf['Demand'] = np.log(log_const + vic_tf['Demand'])\n",
    "vic_tf['Supply'] = np.log(log_const + vic_tf['Supply'])"
   ]
  },
  {
   "cell_type": "markdown",
   "id": "d45e95e8",
   "metadata": {},
   "source": [
    "Section 2: Time Series Split Cross-validation for Model Selection"
   ]
  },
  {
   "cell_type": "code",
   "execution_count": null,
   "id": "df1081c0",
   "metadata": {},
   "outputs": [],
   "source": [
    "# Retrieve records for the cross-validation period\n",
    "\n",
    "# Dataset that only contains the spot prices\n",
    "cv_vic_price = vic_tf.loc[(vic_tf['Time'].dt.date >= date(2021,1,1)) & \n",
    "                       (vic_tf['Time'].dt.date <= date(2021,6,30)), 'Spot Price']\n",
    "\n",
    "# Dataset that contains the spot prices, demand and supply\n",
    "cv_vic_full = vic_tf.loc[(vic_tf['Time'].dt.date >= date(2021,1,1)) & \n",
    "                      (vic_tf['Time'].dt.date <= date(2021,6,30))].drop(columns='Time')"
   ]
  },
  {
   "cell_type": "markdown",
   "id": "505e0370",
   "metadata": {},
   "source": [
    "The following blocks of code in this section were modified by Group 14 and the attribute is given to:\n",
    "Soumya,S (2020), Cross Validation in Time Series, Medium, \n",
    "https://medium.com/@soumyachess1496/cross-validation-in-time-series-566ae4981ce4."
   ]
  },
  {
   "cell_type": "code",
   "execution_count": null,
   "id": "40835db2",
   "metadata": {},
   "outputs": [],
   "source": [
    "# Perform 10 folds of cross-validation\n",
    "tscv = TimeSeriesSplit(n_splits = 10)"
   ]
  },
  {
   "cell_type": "code",
   "execution_count": null,
   "id": "b0c0a6c5",
   "metadata": {},
   "outputs": [],
   "source": [
    "rmse = []\n",
    "\n",
    "# Use the AR(1) model\n",
    "for train_index, test_index in tscv.split(cv_vic_price):\n",
    "    cv_train, cv_test = cv_vic_price.iloc[train_index].reset_index()['Spot Price'], cv_vic_price.iloc[test_index].reset_index()['Spot Price']\n",
    "    \n",
    "    # Fit the model\n",
    "    autoReg = sm.tsa.AutoReg(cv_train, 1).fit()\n",
    "    \n",
    "    # Forecast the spot prices\n",
    "    predictions = autoReg.predict(cv_test.index.values[0], cv_test.index.values[-1], dynamic = False)[1:]\n",
    "    true_values = cv_test.values[1:]\n",
    "    \n",
    "    # Calculate the root mean squared error\n",
    "    rmse.append(math.sqrt(mean_squared_error(true_values, predictions)))\n",
    "    \n",
    "print(\"RMSE of AR(1): {}\".format(np.mean(rmse)))"
   ]
  },
  {
   "cell_type": "code",
   "execution_count": null,
   "id": "eb3292cf",
   "metadata": {},
   "outputs": [],
   "source": [
    "rmse = []\n",
    "\n",
    "# Use the MA(1) model\n",
    "for train_index, test_index in tscv.split(cv_vic_price):\n",
    "    cv_train, cv_test = cv_vic_price.iloc[train_index].reset_index()['Spot Price'], \\\n",
    "                        cv_vic_price.iloc[test_index].reset_index()['Spot Price']\n",
    "    \n",
    "    # Fit the model\n",
    "    arma = sm.tsa.ARMA(cv_train,(0,1)).fit()\n",
    "    \n",
    "    # Forecast the spot prices\n",
    "    predictions = arma.predict(cv_test.index.values[0], cv_test.index.values[-1], dynamic = False)\n",
    "    true_values = cv_test.values\n",
    "    \n",
    "    # Calculate the root mean squared error\n",
    "    rmse.append(math.sqrt(mean_squared_error(true_values, predictions)))\n",
    "    \n",
    "print(\"RMSE of MA(1): {}\".format(np.mean(rmse)))"
   ]
  },
  {
   "cell_type": "code",
   "execution_count": null,
   "id": "281cd4af",
   "metadata": {},
   "outputs": [],
   "source": [
    "rmse = []\n",
    "\n",
    "# Use the ARMA(1,1) model\n",
    "for train_index, test_index in tscv.split(cv_vic_price):\n",
    "    cv_train, cv_test = cv_vic_price.iloc[train_index].reset_index()['Spot Price'], \\\n",
    "                        cv_vic_price.iloc[test_index].reset_index()['Spot Price']\n",
    "    \n",
    "    # Fit the model\n",
    "    arma = sm.tsa.ARMA(cv_train,(1,1)).fit()\n",
    "    \n",
    "    # Forecast the spot prices\n",
    "    predictions = arma.predict(cv_test.index.values[0], cv_test.index.values[-1], dynamic = False)\n",
    "    true_values = cv_test.values\n",
    "    \n",
    "    # Calculate the root mean squared error\n",
    "    rmse.append(math.sqrt(mean_squared_error(true_values, predictions)))\n",
    "    \n",
    "print(\"RMSE of ARMA(1,1): {}\".format(np.mean(rmse)))"
   ]
  },
  {
   "cell_type": "code",
   "execution_count": null,
   "id": "e4bb67b0",
   "metadata": {},
   "outputs": [],
   "source": [
    "rmse = []\n",
    "\n",
    "# Use the ARMAX(1,1) model\n",
    "# The model incorporates spot price as the endogenous variables while demand and supply are treated as exogenous variables\n",
    "for train_index, test_index in tscv.split(cv_vic_full):\n",
    "    cv_train, cv_test = cv_vic_full.iloc[train_index].reset_index().drop(columns='index'), \\\n",
    "                        cv_vic_full.iloc[test_index].reset_index().drop(columns='index')\n",
    "    \n",
    "    # Fit the model\n",
    "    arma = sm.tsa.ARMA(cv_train['Spot Price'],(1,1), exog=np.array(cv_train['Supply'],cv_train['Demand'])).fit()\n",
    "    \n",
    "    # Forecast the spot prices\n",
    "    predictions = arma.predict(cv_test.index.values[0], cv_test.index.values[-1], dynamic = False)\n",
    "    true_values = cv_test['Spot Price'].values\n",
    "    \n",
    "    # Calculate the root mean squared error\n",
    "    rmse.append(math.sqrt(mean_squared_error(true_values, predictions)))\n",
    "    \n",
    "print(\"RMSE of ARMAX(1,1): {}\".format(np.mean(rmse)))"
   ]
  },
  {
   "cell_type": "code",
   "execution_count": null,
   "id": "19dc0173",
   "metadata": {},
   "outputs": [],
   "source": [
    "rmse = []\n",
    "\n",
    "# Use the vector autoregressive model, VAR(1)\n",
    "# The model incorporates spot price, demand and supply as endogenous variables\n",
    "for train_index, test_index in tscv.split(cv_vic_full):\n",
    "    cv_train, cv_test = cv_vic_full.iloc[train_index].reset_index().drop(columns='index'), \\\n",
    "                        cv_vic_full.iloc[test_index].reset_index().drop(columns='index')\n",
    "    \n",
    "    var = VAR(cv_train)\n",
    "    \n",
    "    # Fit the model\n",
    "    results = var.fit(1)\n",
    "    lag_order = results.k_ar\n",
    "    \n",
    "    # Forecast the spot prices\n",
    "    predictions = results.forecast(cv_test.values[-lag_order:], steps = len(cv_test))\n",
    "    true_values = cv_test.values\n",
    "    \n",
    "    # Calculate the root mean squared error\n",
    "    rmse.append(math.sqrt(mean_squared_error(true_values, predictions)))\n",
    "    \n",
    "print(\"RMSE of VAR(1): {}\".format(np.mean(rmse)))"
   ]
  },
  {
   "cell_type": "markdown",
   "id": "70cf4910",
   "metadata": {},
   "source": [
    "Section 3: Fit and Forecast Using the Actual Training and Test Set with MA(1)"
   ]
  },
  {
   "cell_type": "code",
   "execution_count": null,
   "id": "3c39018b",
   "metadata": {},
   "outputs": [],
   "source": [
    "# Retrieve records for the training and test period\n",
    "train_df = vic_tf.loc[vic_tf['Time'].dt.date <= date(2020,12,31)].reset_index()['Spot Price']\n",
    "test_df = vic_tf.loc[vic_tf['Time'].dt.date >= date(2021,6,30)].reset_index()['Spot Price']"
   ]
  },
  {
   "cell_type": "code",
   "execution_count": null,
   "id": "a11d0be3",
   "metadata": {},
   "outputs": [],
   "source": [
    "# Fit MA(1) with the training set\n",
    "arma = sm.tsa.ARMA(train_df,(0,1)).fit()\n",
    "\n",
    "# Forecast the spot prices for the test set with the fitted model\n",
    "predictions = arma.predict(test_df.index.values[0], test_df.index.values[-1], dynamic = False)\n",
    "true_values = test_df.values"
   ]
  },
  {
   "cell_type": "markdown",
   "id": "20fa2eac",
   "metadata": {},
   "source": [
    "Section 4: Run the Weighted Future Average Algorithm (as in Mandatory Task but with Spot Price Predictions)"
   ]
  },
  {
   "cell_type": "code",
   "execution_count": null,
   "id": "eee651fc",
   "metadata": {},
   "outputs": [],
   "source": [
    "vic = vic.drop(columns=['Demand', 'Supply']).rename(columns={'Spot Price': 'Spot Price Prediction'})"
   ]
  },
  {
   "cell_type": "code",
   "execution_count": null,
   "id": "ea0e5038",
   "metadata": {},
   "outputs": [],
   "source": [
    "# Obtain the forecasted spot prices in actual scale \n",
    "vic.loc[len(vic)-len(predictions):,'Spot Price Prediction'] = (np.exp(predictions)-677.37)[:, None]"
   ]
  },
  {
   "cell_type": "code",
   "execution_count": null,
   "id": "ee60ea87",
   "metadata": {},
   "outputs": [],
   "source": [
    "# Battery properties\n",
    "BATTERY_POWER = 300\n",
    "BATTERY_CAP = 580\n",
    "CHARGE_EFF = 90\n",
    "DISCHARGE_EFF = 90\n",
    "MLF = 0.991"
   ]
  },
  {
   "cell_type": "code",
   "execution_count": null,
   "id": "389fb8fb",
   "metadata": {},
   "outputs": [],
   "source": [
    "def raw_power(charge_forecast, discharge_forecast, opening_cap):\n",
    "    '''Takes in the forecasted battery behaviour and opening capacity, returns the amount of raw power.'''\n",
    "    \n",
    "    if charge_forecast == 1:\n",
    "        return -min(BATTERY_POWER, (BATTERY_CAP - opening_cap) / (CHARGE_EFF / 100) * 2) \n",
    "    elif discharge_forecast == 1:\n",
    "        return min(BATTERY_POWER, opening_cap * 2)\n",
    "    else:\n",
    "        return 0"
   ]
  },
  {
   "cell_type": "code",
   "execution_count": null,
   "id": "8ae3059b",
   "metadata": {},
   "outputs": [],
   "source": [
    "def market_dispatch(raw_power):\n",
    "    '''Takes in the raw power, returns the power for market dispatch.'''\n",
    "    \n",
    "    if raw_power < 0:\n",
    "        return raw_power / 2\n",
    "    elif raw_power > 0:\n",
    "        return (raw_power / 2) * DISCHARGE_EFF / 100\n",
    "    else:\n",
    "        return 0 "
   ]
  },
  {
   "cell_type": "code",
   "execution_count": null,
   "id": "04771283",
   "metadata": {},
   "outputs": [],
   "source": [
    "def market_revenue(market_dispatch, spot_price):\n",
    "    '''Takes in the power for market dispatch and spot price, returns the market revenue generated.'''\n",
    "    \n",
    "    if market_dispatch < 0:\n",
    "        return market_dispatch * spot_price * (1 / MLF)\n",
    "    elif market_dispatch > 0:\n",
    "        return market_dispatch * spot_price * MLF\n",
    "    else:\n",
    "        return 0"
   ]
  },
  {
   "cell_type": "code",
   "execution_count": null,
   "id": "262bbf9b",
   "metadata": {},
   "outputs": [],
   "source": [
    "def closing_capacity(market_dispatch, opening_cap):\n",
    "    '''Takes in the power for market dispatch and opening capacity, returns the closing capacity.'''\n",
    "    \n",
    "    if market_dispatch < 0:\n",
    "        closing_cap_cand = opening_cap - market_dispatch * (CHARGE_EFF / 100)\n",
    "        return max(0, min(closing_cap_cand, BATTERY_CAP))\n",
    "    elif market_dispatch >= 0:\n",
    "        closing_cap_cand = opening_cap - market_dispatch * (100 / DISCHARGE_EFF)\n",
    "        return max(0, min(closing_cap_cand, BATTERY_CAP))\n",
    "    else:\n",
    "        return 0"
   ]
  },
  {
   "cell_type": "code",
   "execution_count": null,
   "id": "162ef543",
   "metadata": {},
   "outputs": [],
   "source": [
    "def weighted_future_avg(df, index, num_future_periods):\n",
    "    '''Takes in the full set of spot prices and index of the current period, \n",
    "    returns the weighted future average price relative to the current period.'''\n",
    "    \n",
    "    total_periods = len(df)\n",
    "    \n",
    "    # Compute the weighted future average price relative to periods with at least 10 future periods\n",
    "    if index < (total_periods - num_future_periods):   \n",
    "        future_df = df.loc[(index + 1):(index + num_future_periods), \"Spot Price Prediction\"].to_frame()\n",
    "        future_df[\"Weights\"] = list(range(num_future_periods, 0, -1))\n",
    "        future_avg = round(np.average(future_df[\"Spot Price Prediction\"], weights = future_df[\"Weights\"]),2)\n",
    "        \n",
    "    # Compute the weighted future average price relative to periods with less than 10 future periods, excluding the last period\n",
    "    elif (index >= (total_periods - num_future_periods)) and (index != (total_periods - 1)):\n",
    "        future_df = df.loc[(index + 1):total_periods, \"Spot Price Prediction\"].to_frame()\n",
    "        future_df[\"Weights\"] = list(range(num_future_periods, num_future_periods - (total_periods - index) + 1, -1))\n",
    "        future_avg = round(np.average(future_df[\"Spot Price Prediction\"], weights = future_df[\"Weights\"]),2)\n",
    "    \n",
    "    # Set the weighted future average price of the last period as its spot price\n",
    "    elif index == (total_periods - 1):\n",
    "        future_avg = df.loc[index, \"Spot Price Prediction\"]\n",
    "        \n",
    "    else:\n",
    "        future_avg = 0\n",
    "        \n",
    "    return future_avg"
   ]
  },
  {
   "cell_type": "code",
   "execution_count": null,
   "id": "f2849d4d",
   "metadata": {},
   "outputs": [],
   "source": [
    "def battery_forecast(df, index, comparison_threshold):\n",
    "    '''Sets the forecasted charge and discharge behaviour of the current period.'''\n",
    "    \n",
    "    current_price = df.loc[index, \"Spot Price Prediction\"]\n",
    "    weighted_avg_future = df.loc[index, \"Future Average\"]\n",
    "    \n",
    "    # Calculate the absolute difference between the current price and weighted future average price\n",
    "    current_future_diff = abs(weighted_avg_future - current_price)\n",
    "    \n",
    "    # Determine the discharge behaviour of the current period\n",
    "    if (current_price > weighted_avg_future) and (current_future_diff >= comparison_threshold):\n",
    "        df[\"Discharge Forecast\"][index] = 1\n",
    "    else:\n",
    "        df[\"Discharge Forecast\"][index] = 0\n",
    "        \n",
    "    # Determine the charge behaviour of the current period\n",
    "    if (current_price < weighted_avg_future) and (current_future_diff >= comparison_threshold):\n",
    "            df[\"Charge Forecast\"][index] = 1       \n",
    "    else:\n",
    "        df[\"Charge Forecast\"][index] = 0\n",
    "        \n",
    "    return"
   ]
  },
  {
   "cell_type": "code",
   "execution_count": null,
   "id": "11f0cbbf",
   "metadata": {},
   "outputs": [],
   "source": [
    "# Categorise the technical variables according to data type\n",
    "floats_vars = [\"Future Average\", \"Raw Power\", \"Market Dispatch\", \"Market Revenue\", \"Opening Capacity\", \"Closing Capacity\"]\n",
    "ints_vars = [\"Charge Forecast\", \"Discharge Forecast\"]"
   ]
  },
  {
   "cell_type": "code",
   "execution_count": null,
   "id": "46792e07",
   "metadata": {},
   "outputs": [],
   "source": [
    "def battery(df, threshold, num_future_periods):\n",
    "    '''Create a dataframe with all the technical variables.'''\n",
    "    \n",
    "    # Initialise all entries as 0\n",
    "    for var in ints_vars:\n",
    "        df[var] = 0\n",
    "    for var in floats_vars:\n",
    "        df[var] = 0.0\n",
    "    \n",
    "    # Update the values of the technical variables in each period\n",
    "    for index, row in df.iterrows():\n",
    "        # Computed the weighted future average price \n",
    "        future_avg = weighted_future_avg(df, index, num_future_periods)\n",
    "        df[\"Future Average\"][index] = future_avg\n",
    "        \n",
    "        # Forecast the charge and discharge behaviour of the battery\n",
    "        battery_forecast(df, index, threshold)\n",
    "        \n",
    "        # Set the opening capacity of the current period as the previous period's closing capacity, \n",
    "        # excluding the first period which is assumed to start discharged\n",
    "        if index != 0:\n",
    "            df[\"Opening Capacity\"][index] = df.loc[index-1, \"Closing Capacity\"]\n",
    "        \n",
    "        df[\"Raw Power\"][index] = raw_power(df[\"Charge Forecast\"][index], df[\"Discharge Forecast\"][index], df[\"Opening Capacity\"][index])\n",
    "        df[\"Market Dispatch\"][index] = market_dispatch(df[\"Raw Power\"][index])\n",
    "        df[\"Market Revenue\"][index] = market_revenue(df[\"Market Dispatch\"][index], df[\"Spot Price Prediction\"][index])\n",
    "        df[\"Closing Capacity\"][index] = closing_capacity(df[\"Market Dispatch\"][index], df[\"Opening Capacity\"][index])\n",
    "        \n",
    "    return"
   ]
  },
  {
   "cell_type": "code",
   "execution_count": null,
   "id": "550f8a7a",
   "metadata": {},
   "outputs": [],
   "source": [
    "# Optimal number of future periods and optimal comparison threshold by tuning using the cross-validation period\n",
    "# This has been done in the notebook named \"Mandatory Task Approach\"\n",
    "opt_future_periods = 10\n",
    "opt_threshold = 6.0\n",
    "\n",
    "# Create the dataframe with technical variables for the full sample period\n",
    "battery(vic, opt_threshold, opt_future_periods)"
   ]
  },
  {
   "cell_type": "code",
   "execution_count": null,
   "id": "6a7097c4",
   "metadata": {},
   "outputs": [],
   "source": [
    "# Retrieve the index of the first period in the test set\n",
    "index_test = vic.index[vic[\"Time\"] == datetime(2021, 7, 1, 0, 0, 0)][0]\n",
    "\n",
    "test = vic.iloc[index_test:,]\n",
    "\n",
    "# Calculate the predicted market revenue for respective periods\n",
    "print(\"Total Revenue for Test Period: \" + str(round(sum(test[\"Market Revenue\"]),2)))\n",
    "print(\"Total Revenue for Full Period: \" + str(round(sum(vic[\"Market Revenue\"]),2)))"
   ]
  },
  {
   "cell_type": "markdown",
   "id": "9dd35fc4",
   "metadata": {},
   "source": [
    "Section 5: Generate Output Files"
   ]
  },
  {
   "cell_type": "code",
   "execution_count": null,
   "id": "a956d3a8",
   "metadata": {},
   "outputs": [],
   "source": [
    "# Create output dataframe used for submission\n",
    "output = vic[[\"Time\", \"Raw Power\", \"Spot Price Prediction\", \"Opening Capacity\"]]. \\\n",
    "         rename(columns={\"Time\":\"datetime\", \"Raw Power\":\"power\", \"Spot Price Prediction\":\"spot price prediction\", \"Opening Capacity\":\"capacity\"})"
   ]
  },
  {
   "cell_type": "code",
   "execution_count": null,
   "id": "48b39bae",
   "metadata": {},
   "outputs": [],
   "source": [
    "# Create submission files\n",
    "output.to_csv(\"../../results/bonus_submission.csv\", index=False)"
   ]
  }
 ],
 "metadata": {
  "kernelspec": {
   "display_name": "Python 3 (ipykernel)",
   "language": "python",
   "name": "python3"
  },
  "language_info": {
   "codemirror_mode": {
    "name": "ipython",
    "version": 3
   },
   "file_extension": ".py",
   "mimetype": "text/x-python",
   "name": "python",
   "nbconvert_exporter": "python",
   "pygments_lexer": "ipython3",
   "version": "3.9.5"
  }
 },
 "nbformat": 4,
 "nbformat_minor": 5
}
