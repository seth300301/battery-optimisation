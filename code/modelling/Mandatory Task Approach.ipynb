{
 "cells": [
  {
   "cell_type": "code",
   "execution_count": null,
   "metadata": {},
   "outputs": [],
   "source": [
    "import pandas as pd\n",
    "import itertools\n",
    "import numpy as np\n",
    "from datetime import date, time, datetime\n",
    "\n",
    "import warnings\n",
    "warnings.filterwarnings(\"ignore\")"
   ]
  },
  {
   "cell_type": "code",
   "execution_count": null,
   "metadata": {},
   "outputs": [],
   "source": [
    "# Battery properties\n",
    "BATTERY_POWER = 300\n",
    "BATTERY_CAP = 580\n",
    "CHARGE_EFF = 90\n",
    "DISCHARGE_EFF = 90\n",
    "MLF = 0.991"
   ]
  },
  {
   "cell_type": "code",
   "execution_count": null,
   "metadata": {},
   "outputs": [],
   "source": [
    "def raw_power(charge_forecast, discharge_forecast, opening_cap):\n",
    "    '''Takes in the forecasted battery behaviour and opening capacity, returns the amount of raw power.'''\n",
    "    \n",
    "    if charge_forecast == 1:\n",
    "        return -min(BATTERY_POWER, (BATTERY_CAP - opening_cap) / (CHARGE_EFF / 100) * 2) \n",
    "    elif discharge_forecast == 1:\n",
    "        return min(BATTERY_POWER, opening_cap * 2)\n",
    "    else:\n",
    "        return 0"
   ]
  },
  {
   "cell_type": "code",
   "execution_count": null,
   "metadata": {},
   "outputs": [],
   "source": [
    "def market_dispatch(raw_power):\n",
    "    '''Takes in the raw power, returns the power for market dispatch.'''\n",
    "    \n",
    "    if raw_power < 0:\n",
    "        return raw_power / 2\n",
    "    elif raw_power > 0:\n",
    "        return (raw_power / 2) * DISCHARGE_EFF / 100\n",
    "    else:\n",
    "        return 0 "
   ]
  },
  {
   "cell_type": "code",
   "execution_count": null,
   "metadata": {},
   "outputs": [],
   "source": [
    "def market_revenue(market_dispatch, spot_price):\n",
    "    '''Takes in the power for market dispatch and spot price, returns the market revenue generated.'''\n",
    "    \n",
    "    if market_dispatch < 0:\n",
    "        return market_dispatch * spot_price * (1 / MLF)\n",
    "    elif market_dispatch > 0:\n",
    "        return market_dispatch * spot_price * MLF\n",
    "    else:\n",
    "        return 0"
   ]
  },
  {
   "cell_type": "code",
   "execution_count": null,
   "metadata": {},
   "outputs": [],
   "source": [
    "def closing_capacity(market_dispatch, opening_cap):\n",
    "    '''Takes in the power for market dispatch and opening capacity, returns the closing capacity.'''\n",
    "    \n",
    "    if market_dispatch < 0:\n",
    "        closing_cap_cand = opening_cap - market_dispatch * (CHARGE_EFF / 100)\n",
    "        return max(0, min(closing_cap_cand, BATTERY_CAP))\n",
    "    elif market_dispatch >= 0:\n",
    "        closing_cap_cand = opening_cap - market_dispatch * (100 / DISCHARGE_EFF)\n",
    "        return max(0, min(closing_cap_cand, BATTERY_CAP))\n",
    "    else:\n",
    "        return 0"
   ]
  },
  {
   "cell_type": "code",
   "execution_count": null,
   "metadata": {},
   "outputs": [],
   "source": [
    "def weighted_future_avg(df, index, num_future_periods):\n",
    "    '''Takes in the full set of spot prices and index of the current period, \n",
    "    returns the weighted future average price relative to the current period.'''\n",
    "    \n",
    "    total_periods = len(df)\n",
    "    \n",
    "    # Compute the weighted future average price relative to periods with at least 10 future periods\n",
    "    if index < (total_periods - num_future_periods):   \n",
    "        future_df = df.loc[(index + 1):(index + num_future_periods), \"Spot Price\"].to_frame()\n",
    "        future_df[\"Weights\"] = list(range(num_future_periods, 0, -1))\n",
    "        future_avg = round(np.average(future_df[\"Spot Price\"], weights = future_df[\"Weights\"]),2)\n",
    "        \n",
    "    # Compute the weighted future average price relative to periods with less than 10 future periods, excluding the last period\n",
    "    elif (index >= (total_periods - num_future_periods)) and (index != (total_periods - 1)):\n",
    "        future_df = df.loc[(index + 1):total_periods, \"Spot Price\"].to_frame()\n",
    "        future_df[\"Weights\"] = list(range(num_future_periods, num_future_periods - (total_periods - index) + 1, -1))\n",
    "        future_avg = round(np.average(future_df[\"Spot Price\"], weights = future_df[\"Weights\"]),2)\n",
    "    \n",
    "    # Set the weighted future average price of the last period as its spot price\n",
    "    elif index == (total_periods - 1):\n",
    "        future_avg = df.loc[index,\"Spot Price\"]\n",
    "        \n",
    "    else:\n",
    "        future_avg = 0\n",
    "        \n",
    "    return future_avg"
   ]
  },
  {
   "cell_type": "code",
   "execution_count": null,
   "metadata": {},
   "outputs": [],
   "source": [
    "def battery_forecast(df, index, comparison_threshold):\n",
    "    '''Sets the forecasted charge and discharge behaviour of the current period.'''\n",
    "    \n",
    "    current_price = df.loc[index, \"Spot Price\"]\n",
    "    weighted_avg_future = df.loc[index, \"Future Average\"]\n",
    "    \n",
    "    # Calculate the absolute difference between the current price and weighted future average price\n",
    "    current_future_diff = abs(weighted_avg_future - current_price)\n",
    "    \n",
    "    # Determine the discharge behaviour of the current period\n",
    "    if (current_price > weighted_avg_future) and (current_future_diff >= comparison_threshold):\n",
    "        df[\"Discharge Forecast\"][index] = 1\n",
    "    else:\n",
    "        df[\"Discharge Forecast\"][index] = 0\n",
    "        \n",
    "    # Determine the charge behaviour of the current period\n",
    "    if (current_price < weighted_avg_future) and (current_future_diff >= comparison_threshold):\n",
    "            df[\"Charge Forecast\"][index] = 1       \n",
    "    else:\n",
    "        df[\"Charge Forecast\"][index] = 0\n",
    "        \n",
    "    return"
   ]
  },
  {
   "cell_type": "code",
   "execution_count": null,
   "metadata": {},
   "outputs": [],
   "source": [
    "# Categorise the technical variables according to data type\n",
    "floats_vars = [\"Future Average\", \"Raw Power\", \"Market Dispatch\", \"Market Revenue\", \"Opening Capacity\", \"Closing Capacity\"]\n",
    "ints_vars = [\"Charge Forecast\", \"Discharge Forecast\"]"
   ]
  },
  {
   "cell_type": "code",
   "execution_count": null,
   "metadata": {},
   "outputs": [],
   "source": [
    "def battery(df, threshold, num_future_periods):\n",
    "    '''Create a dataframe with all the technical variables.'''\n",
    "    \n",
    "    # Initialise all entries as 0\n",
    "    for var in ints_vars:\n",
    "        df[var] = 0\n",
    "    for var in floats_vars:\n",
    "        df[var] = 0.0\n",
    "    \n",
    "    # Update the values of the technical variables in each period\n",
    "    for index, row in df.iterrows():\n",
    "        # Computed the weighted future average price \n",
    "        future_avg = weighted_future_avg(df, index, num_future_periods)\n",
    "        df[\"Future Average\"][index] = future_avg\n",
    "        \n",
    "        # Forecast the charge and discharge behaviour of the battery\n",
    "        battery_forecast(df, index, threshold)\n",
    "        \n",
    "        # Set the opening capacity of the current period as the previous period's closing capacity, \n",
    "        # excluding the first period which is assumed to start discharged\n",
    "        if index != 0:\n",
    "            df[\"Opening Capacity\"][index] = df.loc[index-1, \"Closing Capacity\"]\n",
    "        \n",
    "        df[\"Raw Power\"][index] = raw_power(df[\"Charge Forecast\"][index], df[\"Discharge Forecast\"][index], df[\"Opening Capacity\"][index])\n",
    "        df[\"Market Dispatch\"][index] = market_dispatch(df[\"Raw Power\"][index])\n",
    "        df[\"Market Revenue\"][index] = market_revenue(df[\"Market Dispatch\"][index], df[\"Spot Price\"][index])\n",
    "        df[\"Closing Capacity\"][index] = closing_capacity(df[\"Market Dispatch\"][index], df[\"Opening Capacity\"][index])\n",
    "        \n",
    "    return"
   ]
  },
  {
   "cell_type": "markdown",
   "metadata": {},
   "source": [
    "Section 1: Data Preprocessing"
   ]
  },
  {
   "cell_type": "code",
   "execution_count": null,
   "metadata": {},
   "outputs": [],
   "source": [
    "# Read the raw dataset\n",
    "data = pd.read_excel(\"../../data/market_data.xlsx\") "
   ]
  },
  {
   "cell_type": "code",
   "execution_count": null,
   "metadata": {},
   "outputs": [],
   "source": [
    "# Remove variables that are not in the range of study\n",
    "vic = data.filter(items=[\"Time (UTC+10)\", \"Regions VIC Trading Price ($/MWh)\"])\n",
    "vic = vic.rename(columns={\"Regions VIC Trading Price ($/MWh)\": \"Spot Price\", \"Time (UTC+10)\": \"Datetime\"})"
   ]
  },
  {
   "cell_type": "code",
   "execution_count": null,
   "metadata": {},
   "outputs": [],
   "source": [
    "# Recast data type of datetime column to datetime type\n",
    "vic[\"Datetime\"] = pd.to_datetime(vic[\"Datetime\"])"
   ]
  },
  {
   "cell_type": "markdown",
   "metadata": {},
   "source": [
    "Section 2: Cross-validation for Hyperparameter Tuning"
   ]
  },
  {
   "cell_type": "code",
   "execution_count": null,
   "metadata": {
    "scrolled": true
   },
   "outputs": [],
   "source": [
    "# Retrieve records for the cross-validation period\n",
    "cv = vic.copy().loc[(vic[\"Datetime\"].dt.date >= date(2021,1,1)) & (vic[\"Datetime\"].dt.date <= date(2021,6,30))]\n",
    "cv = cv.reset_index().drop(columns = \"index\")"
   ]
  },
  {
   "cell_type": "code",
   "execution_count": null,
   "metadata": {},
   "outputs": [],
   "source": [
    "opt_threshold = 0\n",
    "opt_future_periods = 0\n",
    "max_rev = 0\n",
    " \n",
    "# Determine the optimal number of future periods and optimal comparison threshold by grid search\n",
    "for future_periods in np.arange(8, 12, 1):\n",
    "    for threshold in np.arange(6, 10, 0.5):   \n",
    "        battery(cv, threshold, future_periods)\n",
    "        \n",
    "        # Calculate the market revenue with the current combination of hyperparameters\n",
    "        curr_rev = sum(cv[\"Market Revenue\"])\n",
    "    \n",
    "        if curr_rev > max_rev:\n",
    "            max_rev = curr_rev\n",
    "            opt_threshold = threshold\n",
    "            opt_future_periods = future_periods\n",
    "\n",
    "print(\"Optimal Number of Future Periods: \" + str(opt_future_periods)) \n",
    "print(\"Optimal Comparison Threshold: \" + str(opt_threshold)) "
   ]
  },
  {
   "cell_type": "markdown",
   "metadata": {},
   "source": [
    "Section 3: Run the Weighted Future Average Algorithm"
   ]
  },
  {
   "cell_type": "code",
   "execution_count": null,
   "metadata": {},
   "outputs": [],
   "source": [
    "# Create the dataframe with technical variables for the full sample period\n",
    "battery(vic, opt_threshold, opt_future_periods)"
   ]
  },
  {
   "cell_type": "code",
   "execution_count": null,
   "metadata": {},
   "outputs": [],
   "source": [
    "# Retrieve the index of the first period in the test set\n",
    "index_test = vic.index[vic[\"Datetime\"] == datetime(2021, 7, 1, 0, 0, 0)][0]\n",
    "\n",
    "train_cv = vic.iloc[:index_test,]\n",
    "test = vic.iloc[index_test:,]\n",
    "\n",
    "# Calculate the market revenue for respective periods\n",
    "print(\"Total Revenue for Training + CV Period: \" + str(round(sum(train_cv[\"Market Revenue\"]),2)))\n",
    "print(\"Total Revenue for Test Period: \" + str(round(sum(test[\"Market Revenue\"]),2)))\n",
    "print(\"Total Revenue for Full Period: \" + str(round(sum(vic[\"Market Revenue\"]),2)))"
   ]
  },
  {
   "cell_type": "markdown",
   "metadata": {},
   "source": [
    "Section 4: Generate Output Files"
   ]
  },
  {
   "cell_type": "code",
   "execution_count": null,
   "metadata": {},
   "outputs": [],
   "source": [
    "# Create output dataframe used for submission\n",
    "output = vic[['Datetime', 'Raw Power', 'Opening Capacity']]. \\\n",
    "         rename(columns={\"Datetime\": \"datetime\", \"Raw Power\": \"power\", \"Opening Capacity\":\"capacity\"})"
   ]
  },
  {
   "cell_type": "code",
   "execution_count": null,
   "metadata": {},
   "outputs": [],
   "source": [
    "# Create submission files\n",
    "output.to_csv(\"../../results/mandatory_submission.csv\", index=False)"
   ]
  }
 ],
 "metadata": {
  "kernelspec": {
   "display_name": "Python 3 (Anaconda 3)",
   "language": "python",
   "name": "python3"
  },
  "language_info": {
   "codemirror_mode": {
    "name": "ipython",
    "version": 3
   },
   "file_extension": ".py",
   "mimetype": "text/x-python",
   "name": "python",
   "nbconvert_exporter": "python",
   "pygments_lexer": "ipython3",
   "version": "3.8.2"
  }
 },
 "nbformat": 4,
 "nbformat_minor": 5
}
